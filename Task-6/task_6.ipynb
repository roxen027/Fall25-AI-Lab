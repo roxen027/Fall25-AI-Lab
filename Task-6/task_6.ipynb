{
 "cells": [
  {
   "cell_type": "markdown",
   "id": "928d0fac",
   "metadata": {},
   "source": [
    "# BFS without Queue"
   ]
  },
  {
   "cell_type": "code",
   "execution_count": 1,
   "id": "206134cc",
   "metadata": {},
   "outputs": [
    {
     "name": "stdout",
     "output_type": "stream",
     "text": [
      "BFS Traversal:\n",
      "A B C D E F G H "
     ]
    }
   ],
   "source": [
    "def breadth_first_traversal(g, start_node):\n",
    "    explored = set()\n",
    "    queue = [start_node]\n",
    "    \n",
    "    while queue:\n",
    "        current = queue.pop(0)   \n",
    "        if current not in explored:\n",
    "            print(current, end=\" \")\n",
    "            explored.add(current)\n",
    "\n",
    "            for nxt in g.get(current, []):\n",
    "                if nxt not in explored:\n",
    "                    queue.append(nxt)\n",
    "graph = {\n",
    "    'A': ['B', 'C'],\n",
    "    'B': ['D', 'E'],\n",
    "    'C': ['F', 'G'],\n",
    "    'D': [],\n",
    "    'E': ['F'],\n",
    "    'F': ['H'],\n",
    "    'G': [],\n",
    "    'H': []\n",
    "}\n",
    "\n",
    "print(\"BFS Traversal:\")\n",
    "breadth_first_traversal(graph, 'A')"
   ]
  },
  {
   "cell_type": "markdown",
   "id": "04281b99",
   "metadata": {},
   "source": [
    "# BFS with Queue"
   ]
  },
  {
   "cell_type": "code",
   "execution_count": 2,
   "id": "58d17a51",
   "metadata": {},
   "outputs": [
    {
     "name": "stdout",
     "output_type": "stream",
     "text": [
      "BFS using Queue:\n",
      "A B C D E F G H "
     ]
    }
   ],
   "source": [
    "def level_order_traversal(g, start_node):\n",
    "    seen = set()\n",
    "    waiting_list = [start_node]\n",
    "    \n",
    "    while waiting_list:\n",
    "        current_node = waiting_list.pop(0)\n",
    "        \n",
    "        if current_node not in seen:\n",
    "            print(current_node, end=\" \")\n",
    "            seen.add(current_node)\n",
    "            \n",
    "            for nxt in g.get(current_node, []):\n",
    "                if nxt not in seen:\n",
    "                    waiting_list.append(nxt)\n",
    "graph = {\n",
    "    'A': ['B', 'C'],\n",
    "    'B': ['D', 'E'],\n",
    "    'C': ['F', 'G'],\n",
    "    'D': [],\n",
    "    'E': ['H'],\n",
    "    'F': [],\n",
    "    'G': ['H'],\n",
    "    'H': []\n",
    "}\n",
    "\n",
    "print(\"BFS using Queue:\")\n",
    "level_order_traversal(graph, 'A')\n"
   ]
  },
  {
   "cell_type": "code",
   "execution_count": null,
   "id": "b2b2bf29",
   "metadata": {},
   "outputs": [],
   "source": []
  }
 ],
 "metadata": {
  "kernelspec": {
   "display_name": "base",
   "language": "python",
   "name": "python3"
  },
  "language_info": {
   "codemirror_mode": {
    "name": "ipython",
    "version": 3
   },
   "file_extension": ".py",
   "mimetype": "text/x-python",
   "name": "python",
   "nbconvert_exporter": "python",
   "pygments_lexer": "ipython3",
   "version": "3.13.5"
  }
 },
 "nbformat": 4,
 "nbformat_minor": 5
}
