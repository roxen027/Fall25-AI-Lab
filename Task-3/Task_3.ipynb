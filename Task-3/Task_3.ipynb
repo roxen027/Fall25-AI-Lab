{
 "cells": [
  {
   "cell_type": "code",
   "execution_count": 1,
   "id": "b2abeddb",
   "metadata": {},
   "outputs": [
    {
     "name": "stdout",
     "output_type": "stream",
     "text": [
      "Living Room: 21°C --> TURN ON Air Conditioner\n",
      "Bedroom: 28°C --> No change in action (TURN ON)\n",
      "Kitchen: 33°C --> No change in action (TURN ON)\n",
      "Store Room: 24°C --> No change in action (TURN ON)\n",
      "Lounge: 18°C --> TURN OFF Air Conditioner\n",
      "\n",
      "Desired Temperature Set To: 19°C\n"
     ]
    }
   ],
   "source": [
    "class SmartAgent:\n",
    "    def __init__(self, desired_temp=20):\n",
    "        self.desired_temp = desired_temp\n",
    "        self.current_temp = 0\n",
    "        self.last_action = None\n",
    "\n",
    "    def sense_temperature(self, temperature):\n",
    "        self.current_temp = temperature\n",
    "\n",
    "    def make_decision(self):\n",
    "        if self.current_temp > self.desired_temp:\n",
    "            action = \"TURN ON\"\n",
    "        else:\n",
    "            action = \"TURN OFF\"\n",
    "\n",
    "        if action == self.last_action:\n",
    "            return f\"No change in action ({action})\"\n",
    "        else:\n",
    "            self.last_action = action\n",
    "            return f\"{action} Air Conditioner\"\n",
    "\n",
    "    def perform_action(self, room):\n",
    "        decision = self.make_decision()\n",
    "        print(f\"{room}: {self.current_temp}°C --> {decision}\")\n",
    "\n",
    "def run_agent():\n",
    "    room_data = {\n",
    "        \"Living Room\": 21,\n",
    "        \"Bedroom\": 28,\n",
    "        \"Kitchen\": 33,\n",
    "        \"Store Room\": 24,\n",
    "        \"Lounge\": 18,\n",
    "    }\n",
    "\n",
    "    agent = SmartAgent(desired_temp=19)\n",
    "\n",
    "    for room_name, temp in room_data.items():\n",
    "        agent.sense_temperature(temp)\n",
    "        agent.perform_action(room_name)\n",
    "\n",
    "    print(f\"\\nDesired Temperature Set To: {agent.desired_temp}°C\")\n",
    "\n",
    "if __name__ == \"__main__\":\n",
    "    run_agent()"
   ]
  },
  {
   "cell_type": "code",
   "execution_count": null,
   "id": "07259c25",
   "metadata": {},
   "outputs": [],
   "source": []
  }
 ],
 "metadata": {
  "kernelspec": {
   "display_name": "base",
   "language": "python",
   "name": "python3"
  },
  "language_info": {
   "codemirror_mode": {
    "name": "ipython",
    "version": 3
   },
   "file_extension": ".py",
   "mimetype": "text/x-python",
   "name": "python",
   "nbconvert_exporter": "python",
   "pygments_lexer": "ipython3",
   "version": "3.13.5"
  }
 },
 "nbformat": 4,
 "nbformat_minor": 5
}
