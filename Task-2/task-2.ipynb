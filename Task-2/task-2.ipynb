{
 "cells": [
  {
   "cell_type": "code",
   "execution_count": 1,
   "id": "a4684191",
   "metadata": {},
   "outputs": [
    {
     "name": "stdout",
     "output_type": "stream",
     "text": [
      "=== Let's Play The FIZZBUZZ Challenge!===\n",
      " Wrong Answer! The correct value was: 1\n",
      "Game Over \n"
     ]
    }
   ],
   "source": [
    "def fizzbuzz_play(num):\n",
    "    if num % 3 == 0 and num % 5 == 0:\n",
    "        return \"FIZZBUZZ\"\n",
    "    elif num % 3 == 0:\n",
    "        return \"FIZZ\"\n",
    "    elif num % 5 == 0:\n",
    "        return \"BUZZ\"\n",
    "    else:\n",
    "        return str(num)\n",
    "\n",
    "print(\"=== Let's Play The FIZZBUZZ Challenge!===\")\n",
    "\n",
    "for i in range(1, 21):\n",
    "    if i % 2 != 0:  \n",
    "        player_input = input(f\"Your Move ({i}): \").strip().upper()\n",
    "        correct = fizzbuzz_play(i)\n",
    "\n",
    "        if player_input == correct:\n",
    "            print(\"Correct!\\n\")\n",
    "        else:\n",
    "            print(f\" Wrong Answer! The correct value was: {correct}\")\n",
    "            print(\"Game Over \")\n",
    "            break\n",
    "\n",
    "    else:  \n",
    "        print(f\"Computer says: {fizzbuzz_play(i)}\")"
   ]
  },
  {
   "cell_type": "code",
   "execution_count": null,
   "id": "741cc0d1",
   "metadata": {},
   "outputs": [],
   "source": []
  }
 ],
 "metadata": {
  "kernelspec": {
   "display_name": "base",
   "language": "python",
   "name": "python3"
  },
  "language_info": {
   "codemirror_mode": {
    "name": "ipython",
    "version": 3
   },
   "file_extension": ".py",
   "mimetype": "text/x-python",
   "name": "python",
   "nbconvert_exporter": "python",
   "pygments_lexer": "ipython3",
   "version": "3.13.5"
  }
 },
 "nbformat": 4,
 "nbformat_minor": 5
}
