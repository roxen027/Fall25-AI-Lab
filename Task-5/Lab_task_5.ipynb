{
 "cells": [
  {
   "cell_type": "code",
   "execution_count": 1,
   "id": "6c48051d",
   "metadata": {},
   "outputs": [
    {
     "name": "stdout",
     "output_type": "stream",
     "text": [
      "Iterative DFS:\n",
      "A B D H E F C G \n",
      "\n",
      "Recursive DFS:\n",
      "A B D H E F C G \n"
     ]
    }
   ],
   "source": [
    "def depth_first_stack(g, start_node):\n",
    "    seen = set()\n",
    "    stack_list = [start_node]\n",
    "    \n",
    "    while stack_list:\n",
    "        current = stack_list.pop()\n",
    "        if current not in seen:\n",
    "            print(current, end=\" \")\n",
    "            seen.add(current)\n",
    "            neighbors = g.get(current, [])\n",
    "            for nxt in neighbors[::-1]:\n",
    "                if nxt not in seen:\n",
    "                    stack_list.append(nxt)\n",
    "\n",
    "def depth_first_recursive(g, current, seen=None):\n",
    "    if seen is None:\n",
    "        seen = set()\n",
    "    if current in seen:\n",
    "        return\n",
    "    print(current, end=\" \")\n",
    "    seen.add(current)\n",
    "    \n",
    "    for nxt in g.get(current, []):\n",
    "        if nxt not in seen:\n",
    "            depth_first_recursive(g, nxt, seen)\n",
    "graph = {\n",
    "    'A': ['B', 'C'],\n",
    "    'B': ['D', 'E'],\n",
    "    'C': ['F', 'G'],\n",
    "    'D': ['H'],\n",
    "    'E': ['F'],\n",
    "    'F': [],\n",
    "    'G': ['H'],\n",
    "    'H': []\n",
    "}\n",
    "\n",
    "print(\"Iterative DFS:\")\n",
    "depth_first_stack(graph, 'A')\n",
    "\n",
    "print(\"\\n\\nRecursive DFS:\")\n",
    "depth_first_recursive(graph, 'A')\n",
    "print()\n"
   ]
  },
  {
   "cell_type": "code",
   "execution_count": null,
   "id": "e3fcb20b",
   "metadata": {},
   "outputs": [],
   "source": []
  }
 ],
 "metadata": {
  "kernelspec": {
   "display_name": "base",
   "language": "python",
   "name": "python3"
  },
  "language_info": {
   "codemirror_mode": {
    "name": "ipython",
    "version": 3
   },
   "file_extension": ".py",
   "mimetype": "text/x-python",
   "name": "python",
   "nbconvert_exporter": "python",
   "pygments_lexer": "ipython3",
   "version": "3.13.5"
  }
 },
 "nbformat": 4,
 "nbformat_minor": 5
}
